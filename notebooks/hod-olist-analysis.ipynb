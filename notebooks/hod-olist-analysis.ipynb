{
 "cells": [
  {
   "cell_type": "code",
   "execution_count": null,
   "id": "04b8dfda-c0a2-4813-b271-4f15df4a4008",
   "metadata": {},
   "outputs": [],
   "source": [
    "print('hello')"
   ]
  },
  {
   "cell_type": "code",
   "execution_count": null,
   "id": "7b07c3e9-a64d-4ad6-a165-86c93a94688f",
   "metadata": {},
   "outputs": [],
   "source": [
    "# downloading the libraries\n",
    "\n",
    "import warnings\n",
    "warnings.simplefilter(action='ignore', category=DeprecationWarning)\n",
    "\n",
    "import pandas as pd\n",
    "pd.set_option('display.max_columns', 100)\n",
    "import numpy as np\n",
    "import seaborn as sns\n",
    "import matplotlib\n",
    "import matplotlib.pyplot as plt\n",
    "from matplotlib.colors import LinearSegmentedColormap # correlation matrix\n",
    "\n",
    "# worldcloud\n",
    "import random\n",
    "from wordcloud import WordCloud\n",
    "\n",
    "# display ERD\n",
    "from IPython.display import Image\n",
    "\n"
   ]
  },
  {
   "cell_type": "markdown",
   "id": "01bf773a-fc17-4b0b-94e1-4f9f2f1adde9",
   "metadata": {},
   "source": [
    "# I - Exploring the data "
   ]
  },
  {
   "cell_type": "markdown",
   "id": "6567fb94-adb3-4bbc-aafc-4169f6a8c076",
   "metadata": {},
   "source": [
    "objective is to get more familiar with the data and review pandas / visulization logic"
   ]
  },
  {
   "cell_type": "markdown",
   "id": "938cabb9-26a2-4b7f-90e6-c4321c8d20d2",
   "metadata": {},
   "source": [
    "## A - Fetching the data "
   ]
  },
  {
   "cell_type": "code",
   "execution_count": null,
   "id": "a7de76f9-8c3d-4ab5-962c-8093b3696641",
   "metadata": {},
   "outputs": [],
   "source": [
    "# understanding where the files are located with terminal operations\n",
    "\n"
   ]
  },
  {
   "cell_type": "code",
   "execution_count": null,
   "id": "780a0880-4503-48cd-b83f-61f8bec743f4",
   "metadata": {},
   "outputs": [],
   "source": [
    "# adding the path to fetch the files\n",
    "\n",
    "raw_path = 'xxxx'\n"
   ]
  },
  {
   "cell_type": "code",
   "execution_count": null,
   "id": "61b78017-adc4-408e-9a0a-61dbe3d89946",
   "metadata": {},
   "outputs": [],
   "source": [
    "# creating pandas dataframes from .csv\n",
    "\n",
    "df_customer = 'your code here'\n",
    "df_geolocation = 'your code here'\n",
    "df_orders = 'your code here'\n",
    "df_order_items = 'your code here'\n",
    "df_order_payments = 'your code here'\n",
    "df_order_reviews = 'your code here'\n",
    "df_products = 'your code here'\n",
    "df_sellers = 'your code here'\n"
   ]
  },
  {
   "cell_type": "markdown",
   "id": "46dba6ab-75e4-47ea-be19-3845a5a15924",
   "metadata": {},
   "source": [
    "## B - Exploring the orders dataframe"
   ]
  },
  {
   "cell_type": "code",
   "execution_count": null,
   "id": "5b79b60c-41a3-42b3-bbcf-3b824fe98174",
   "metadata": {},
   "outputs": [],
   "source": [
    "# printing columns, null count, and dtypes for the orders dataframe\n",
    "\n",
    "'your code here'\n"
   ]
  },
  {
   "cell_type": "code",
   "execution_count": null,
   "id": "b647ad48-27a9-4f74-a04f-4a9b6816270d",
   "metadata": {},
   "outputs": [],
   "source": [
    "# printing the first 10 lines of the orders dataframe\n",
    "\n",
    "'your code here'\n",
    "\n",
    "# the last 10 lines of the dataframe\n",
    "\n",
    "#'your code here'\n",
    "\n",
    "# a sample of ten lines\n",
    "\n",
    "#'your code here'\n",
    "\n",
    "# getting all null values\n",
    "\n",
    "#'your code here'\n"
   ]
  },
  {
   "cell_type": "markdown",
   "id": "a3981fbc-7cd4-40b5-ba06-9fbd76fb315f",
   "metadata": {},
   "source": [
    "**why are there null values for approved_at, delivered_carrier_date, delivered_customer_date?**\n",
    "\n",
    "*-> answer:*"
   ]
  },
  {
   "cell_type": "code",
   "execution_count": null,
   "id": "d6242cb9-219c-4415-a1bc-3fd241ba7a3e",
   "metadata": {},
   "outputs": [],
   "source": [
    "# fetching only particular columns of the df_orders dataframe\n",
    "\n",
    "## fetch the order_approved_at columns in a data series format, then in a dataframe format, and print the first five lines\n",
    "\n",
    "'your code here'\n",
    "\n",
    "## fetch the order_id, order_status, approved_at, delivered_carrier_date, delivered_customer_date\n",
    "\n",
    "'your code here'\n"
   ]
  },
  {
   "cell_type": "code",
   "execution_count": null,
   "id": "dcf4dad7-dcfa-47a5-a51a-22b8653b3b10",
   "metadata": {},
   "outputs": [],
   "source": [
    "# fetching the approved_at null columns - create another dataframe df_filtered, which will be filtered on order_approved_at is null, and print first 10 rows\n",
    "\n",
    "'your code here'\n"
   ]
  },
  {
   "cell_type": "code",
   "execution_count": null,
   "id": "b7df68f9-4e45-4895-b7be-214bb8566ede",
   "metadata": {},
   "outputs": [],
   "source": [
    "# count the order_id with a null approved_at by order_status\n",
    "\n",
    "# with groupby method\n",
    "\n",
    "'your code here'\n",
    "\n",
    "# with value_counts method\n",
    "\n",
    "'your code here'\n"
   ]
  },
  {
   "cell_type": "markdown",
   "id": "7170eb25-8ccf-4a38-8d3f-a23edb348f5d",
   "metadata": {},
   "source": [
    "**what do you think of the results? Why is there a null approved at to begin with?**\n",
    "\n",
    "-> *answer*:"
   ]
  },
  {
   "cell_type": "markdown",
   "id": "e62bcea1-d60a-4b04-9dd8-feb9c8e3cd1f",
   "metadata": {},
   "source": [
    "## C - Creating a simple visualization using Matplotlib or Seaborn"
   ]
  },
  {
   "cell_type": "code",
   "execution_count": null,
   "id": "7b288511-a48c-4682-9556-06e6d24e141f",
   "metadata": {},
   "outputs": [],
   "source": [
    "# Creating a simple plot with matplotlib: count of non-approved orders by status\n",
    "\n",
    "'your code here'\n"
   ]
  },
  {
   "cell_type": "code",
   "execution_count": null,
   "id": "8f29a5ef-7994-43b5-8b97-97757843bcb3",
   "metadata": {},
   "outputs": [],
   "source": [
    "# Creating a simple plot with seaborn: count of non-approved orders by status\n",
    "\n",
    "'your code here'\n"
   ]
  },
  {
   "cell_type": "markdown",
   "id": "f3c7ae68-7b2b-4dcd-9877-ed29ab8b3910",
   "metadata": {},
   "source": [
    "## D - Exploring all dataframes at once"
   ]
  },
  {
   "cell_type": "code",
   "execution_count": null,
   "id": "98e3bc74-8a34-4d5e-8413-6a2bfaf0d0e0",
   "metadata": {},
   "outputs": [],
   "source": [
    "# an interesting way to look at all dataframes at once, to quickly get what are the null columns\n",
    "\n",
    "# Collections for each dataset\n",
    "datasets = [df_customer, df_geolocation, df_orders, df_order_items, df_order_payments,\n",
    "            df_order_reviews, df_products, df_sellers]\n",
    "names = ['df_customer', 'df_geolocation', 'df_orders', 'df_order_items', 'df_order_payments',\n",
    "         'df_order_reviews', 'df_products', 'df_sellers']\n",
    "\n",
    "# Creating a DataFrame with useful information about all datasets\n",
    "data_info = pd.DataFrame({})\n",
    "data_info['dataset'] = names\n",
    "data_info['n_rows'] = [df.shape[0] for df in datasets]\n",
    "data_info['n_cols'] = [df.shape[1] for df in datasets]\n",
    "data_info['null_amount'] = [df.isnull().sum().sum() for df in datasets]\n",
    "data_info['qty_null_columns'] = [len([col for col, null in df.isnull().sum().items() if null > 0]) for df in datasets]\n",
    "data_info['null_columns'] = [', '.join([col for col, null in df.isnull().sum().items() if null > 0]) for df in datasets]\n",
    "\n",
    "data_info.style.background_gradient()\n"
   ]
  },
  {
   "cell_type": "markdown",
   "id": "61ac1142-b8db-4825-abaa-a255de705846",
   "metadata": {},
   "source": [
    "**What are the dataframes with the most null columns? What's your explanation?**\n",
    "\n",
    "*->answer:*"
   ]
  },
  {
   "cell_type": "markdown",
   "id": "03a9c5e7-3a37-4d9e-b353-1da409087e85",
   "metadata": {},
   "source": [
    "## E - Joining 2 dataframes - how many orders were created in SP state?"
   ]
  },
  {
   "cell_type": "code",
   "execution_count": null,
   "id": "23ba1309-9ce9-46ac-b8ec-ba17d39991c9",
   "metadata": {},
   "outputs": [],
   "source": [
    "# which dataframes do we need to join to answer the question? Explore the dataframes and look for a link between orders and state\n",
    "\n",
    "'your code here'\n"
   ]
  },
  {
   "cell_type": "code",
   "execution_count": null,
   "id": "ae164a7a-ee3d-4144-89d6-089c3fa891f9",
   "metadata": {},
   "outputs": [],
   "source": [
    "# Merge the 2 datasets in a new df_merged dataset, and print the first 5 rows\n",
    "\n",
    "'your code here'\n"
   ]
  },
  {
   "cell_type": "code",
   "execution_count": null,
   "id": "d2574a49-1382-4432-842e-b34ba9103055",
   "metadata": {},
   "outputs": [],
   "source": [
    "# filter the dataframe to have only rows with state = SP, and print the first 5 lines\n",
    "\n",
    "'your code here'\n"
   ]
  },
  {
   "cell_type": "code",
   "execution_count": null,
   "id": "cbbb76b1-f8eb-48a9-ab0f-4a2a66fb75c7",
   "metadata": {},
   "outputs": [],
   "source": [
    "# count the number of orders by state, using both groupby and value_counts\n",
    "\n",
    "# with groupby method\n",
    "'your code here'\n",
    "\n",
    "# with value_counts method\n",
    "#'your code here'\n"
   ]
  },
  {
   "cell_type": "markdown",
   "id": "c5fb22e2-1484-4550-b4de-6b2584b3d941",
   "metadata": {},
   "source": [
    "# II - Exploratory analysis "
   ]
  },
  {
   "cell_type": "markdown",
   "id": "6f10b9eb-bc68-4d71-b562-5a78f1c7570a",
   "metadata": {},
   "source": [
    "our objective is to a) give an overview of the business, b) understand what's driving the bad reviews"
   ]
  },
  {
   "cell_type": "markdown",
   "id": "ce93cb9a-f302-4c3b-ab2e-9e96f5433050",
   "metadata": {
    "jp-MarkdownHeadingCollapsed": true
   },
   "source": [
    "## A - Creating a uniform dataframe for our analysis"
   ]
  },
  {
   "cell_type": "markdown",
   "id": "91b2fd90-6b48-4b3b-a9f3-e452454e4639",
   "metadata": {},
   "source": [
    "**Creating an ERD of the database**\n",
    "\n",
    "- in an ERD diagram tool \n",
    "- create one item per table\n",
    "- list all columns\n",
    "- list their type\n",
    "- find the primary and foreign keys\n",
    "- link the tables together\n",
    "\n",
    "--> upload directly the ERD in the notebook "
   ]
  },
  {
   "cell_type": "code",
   "execution_count": null,
   "id": "e315921a-153c-4a64-b260-4d7535248f85",
   "metadata": {},
   "outputs": [],
   "source": [
    "# Displaying the image with Ipython Image module\n",
    "\n",
    "## the image is in the data/ERD folder\n",
    "filename = '../data/ERD/olist_erd.png'\n",
    "\n",
    "Image(filename=filename)\n"
   ]
  },
  {
   "cell_type": "code",
   "execution_count": null,
   "id": "21d73892-67e1-480b-a3a6-066e24e854c9",
   "metadata": {},
   "outputs": [],
   "source": [
    "# Merging the dataframes using the ERD above\n",
    "\n",
    "df = 'your code'\n"
   ]
  },
  {
   "cell_type": "code",
   "execution_count": null,
   "id": "8f4bf81e-f327-4676-9952-92c32be7a415",
   "metadata": {},
   "outputs": [],
   "source": [
    "# Cleaning the dataframe and creating additional columns that will be useful for further analysis\n",
    "\n",
    "# Ensure timestamps are in datetime format\n",
    "df['order_purchase_timestamp'] = 'your code'\n",
    "df['order_delivered_customer_date'] = 'your code'\n",
    "df['delivery_time'] = 'your code'\n",
    "\n",
    "# Create useful features from order_purchase_timestamp\n",
    "df['year'] = 'your code'                   # year as integer\n",
    "df['month'] = 'your code'                  # month as integer\n",
    "df['week'] = 'your code'                   # week in iso format (1, 2, 3 etc.)\n",
    "df['day_of_week_int'] = 'your code'        # day of week as integer (1 = Monday, etc.)\n",
    "df['hour'] = 'your code'                   # hour of day\n",
    "df['year_month'] = 'your code'             # year and month, just like 2017-10\n",
    "\n",
    "df.head()\n"
   ]
  },
  {
   "cell_type": "markdown",
   "id": "fe4bd86f-1449-469a-94ad-81d6f9ec7a8e",
   "metadata": {
    "jp-MarkdownHeadingCollapsed": true
   },
   "source": [
    "## B - Looking at Reviews"
   ]
  },
  {
   "cell_type": "markdown",
   "id": "8a6dfee8-ab8d-425b-9f11-93f8de1c15c7",
   "metadata": {
    "jp-MarkdownHeadingCollapsed": true
   },
   "source": [
    "### 1 - Let's look at the distribution of the review score"
   ]
  },
  {
   "cell_type": "code",
   "execution_count": null,
   "id": "7e9009c1-9a22-4766-ac83-6ae4a824895f",
   "metadata": {},
   "outputs": [],
   "source": [
    "# Create a distribution plot (dist plot) with seaborn on the review score\n",
    "\n",
    "'your code'"
   ]
  },
  {
   "cell_type": "markdown",
   "id": "3b669084-b68d-4c67-b843-ffd19499203f",
   "metadata": {},
   "source": [
    "**What do you make of those results?**\n",
    "\n",
    "*->answer:*"
   ]
  },
  {
   "cell_type": "markdown",
   "id": "12d63268-b760-4483-b582-db1489d358b5",
   "metadata": {
    "jp-MarkdownHeadingCollapsed": true
   },
   "source": [
    "### 2 - Let's look at the customer verbatims"
   ]
  },
  {
   "cell_type": "code",
   "execution_count": null,
   "id": "2fc4507d-9b94-4167-a80a-bd9159c14528",
   "metadata": {},
   "outputs": [],
   "source": [
    "# Create a wordcloud on orders with negative reviews only\n",
    "\n",
    "'your code'"
   ]
  },
  {
   "cell_type": "markdown",
   "id": "0f7b7257-6041-4392-8361-ad822eff0b60",
   "metadata": {},
   "source": [
    "**What are the first reasons you see behind a bad review? What could we do to improve this wordcloud?**\n",
    "\n",
    "*-> answer:*"
   ]
  },
  {
   "cell_type": "markdown",
   "id": "669c9edf-da30-4cb9-82dd-73a34e6b5003",
   "metadata": {
    "jp-MarkdownHeadingCollapsed": true
   },
   "source": [
    "### 3 - Let's create a correlation matrix and identify other reasons behind bad reviews"
   ]
  },
  {
   "cell_type": "code",
   "execution_count": null,
   "id": "512963c3-4dfd-4f72-a9d8-9e5768d51a4c",
   "metadata": {},
   "outputs": [],
   "source": [
    "# let's isolate the columns we'll use for our correlation matrix\n",
    "\n",
    "# print all the columns and their types using the method of your choice\n"
   ]
  },
  {
   "cell_type": "code",
   "execution_count": null,
   "id": "b1a9294a-cf01-4208-a8b8-3f78c6ac7acd",
   "metadata": {},
   "outputs": [],
   "source": [
    "# bonus: can we create additional features?\n",
    "# example: create a is_delivered column?\n",
    "\n",
    "'your code'\n"
   ]
  },
  {
   "cell_type": "code",
   "execution_count": null,
   "id": "eb666bb2-1149-41c6-90ca-3790432240b5",
   "metadata": {},
   "outputs": [],
   "source": [
    "# Create the correlation matrix based on the columns you want\n",
    "\n",
    "# Select relevant features for correlation analysis\n",
    "\n",
    "colors = ['#001F3F', '#0074D9', '#7FDBFF', '#39CCCC', '#3D9970', '#2ECC40', '#01FF70']\n",
    "\n",
    "correlation_features = df[['columns_you_want']]\n",
    "\n",
    "# Calculate the correlation matrix\n",
    "correlation = correlation_features.corr()\n",
    "\n",
    "# use seaborn to print the correlation matrix\n",
    "'your code'\n"
   ]
  },
  {
   "cell_type": "markdown",
   "id": "d471db73-728c-4dce-8e66-9940cacfc47c",
   "metadata": {},
   "source": [
    "**What are the correlations you see?**\n",
    "\n",
    "*-> answer:*"
   ]
  },
  {
   "cell_type": "markdown",
   "id": "82421403-427c-4a3d-8c8d-11ed4c36352b",
   "metadata": {
    "jp-MarkdownHeadingCollapsed": true
   },
   "source": [
    "## C - Looking at orders"
   ]
  },
  {
   "cell_type": "markdown",
   "id": "5b05bd16-1e07-428a-9b04-9ed67f63f5f3",
   "metadata": {
    "jp-MarkdownHeadingCollapsed": true
   },
   "source": [
    "### 1 - Orders by statuses"
   ]
  },
  {
   "cell_type": "code",
   "execution_count": null,
   "id": "968fb72c-c03e-4567-a569-467d14666e91",
   "metadata": {},
   "outputs": [],
   "source": [
    "# Create a visualization to count the orders by statuses\n",
    "\n",
    "'your code here'\n"
   ]
  },
  {
   "cell_type": "markdown",
   "id": "ab650077-a7c6-4374-95cb-1befe1b694f5",
   "metadata": {
    "jp-MarkdownHeadingCollapsed": true
   },
   "source": [
    "### 2 - Evolution of total orders over time"
   ]
  },
  {
   "cell_type": "code",
   "execution_count": null,
   "id": "467502cf-3672-4011-a636-a15bc1000714",
   "metadata": {},
   "outputs": [],
   "source": [
    "# Create a visualization to see the evolution of orders over time\n",
    "\n",
    "'your code here'\n"
   ]
  },
  {
   "cell_type": "markdown",
   "id": "1c8eed12-a64c-4dae-a11b-84bff7adf633",
   "metadata": {
    "jp-MarkdownHeadingCollapsed": true
   },
   "source": [
    "### 3 - Comparing 2017 and 2018 (bonus)"
   ]
  },
  {
   "cell_type": "code",
   "execution_count": null,
   "id": "5f022142-d2cf-4047-9bef-8539c8d6386a",
   "metadata": {},
   "outputs": [],
   "source": [
    "# Create a visualization to compare 2017 and 2018 on the same graph (bar charts with a \"hue\" = 'year'\n",
    "\n",
    "'your code here'\n"
   ]
  },
  {
   "cell_type": "markdown",
   "id": "1ec9b8f8-2c14-46db-98c3-d4fe5f1c04f5",
   "metadata": {
    "jp-MarkdownHeadingCollapsed": true
   },
   "source": [
    "## D - Delivery times"
   ]
  },
  {
   "cell_type": "markdown",
   "id": "8b561f69-bda0-4b06-a56b-8cf504e70c86",
   "metadata": {},
   "source": [
    "### 1 - Delivery time by product category"
   ]
  },
  {
   "cell_type": "code",
   "execution_count": null,
   "id": "183e3131-71c7-4658-8817-0566d5fc449a",
   "metadata": {},
   "outputs": [],
   "source": [
    "# Start by counting the orders by product category, and create an 'Other section' for product categories that have the lowest amount of orders\n",
    "\n",
    "# Count the occurrences of each product category\n",
    "'your code here'\n",
    "\n",
    "# Only keep the product category that are above a certain threshold, put the others in a \"Other' category\n",
    "threshold = 3000  \n",
    "'your code here'\n"
   ]
  },
  {
   "cell_type": "code",
   "execution_count": null,
   "id": "f9979faa-f8c5-458f-9197-fe0eb6d97794",
   "metadata": {},
   "outputs": [],
   "source": [
    "# Create a boxplot visualization that shows the delivery time by product category\n",
    "\n",
    "'your code here'\n"
   ]
  },
  {
   "cell_type": "markdown",
   "id": "6b0cdeb0-e924-4f58-8532-6024d8837bdb",
   "metadata": {},
   "source": [
    "### 2 - Delivery time by day of the week"
   ]
  },
  {
   "cell_type": "code",
   "execution_count": null,
   "id": "9fafeeca-5b40-47b1-8776-1e0065c351a4",
   "metadata": {},
   "outputs": [],
   "source": [
    "# Create a violin box plot visualization to see the delivery time by day of the week\n",
    "\n",
    "'your code here'\n"
   ]
  },
  {
   "cell_type": "markdown",
   "id": "2b0cfe20-3e23-4153-89db-ce8acd368c9b",
   "metadata": {},
   "source": [
    "### 3 - Average delivery time by month  (bonus)"
   ]
  },
  {
   "cell_type": "code",
   "execution_count": null,
   "id": "4573c9e4-80f0-4e87-b600-db8fa514138f",
   "metadata": {},
   "outputs": [],
   "source": [
    "# Create barplot for the monthly average delivery time\n",
    "\n",
    "'your code here'\n"
   ]
  },
  {
   "cell_type": "markdown",
   "id": "1e87ee51-ef6a-4050-87b9-9241fe9e43cf",
   "metadata": {
    "jp-MarkdownHeadingCollapsed": true
   },
   "source": [
    "## E - Bonus"
   ]
  },
  {
   "cell_type": "markdown",
   "id": "6dae777f-c188-4055-a3b5-33641c720b1c",
   "metadata": {},
   "source": [
    "### 1 - Order distribution by day of week and time of day "
   ]
  },
  {
   "cell_type": "code",
   "execution_count": null,
   "id": "3f5f2a69-1b8b-40ac-a1d3-87f05b0459e7",
   "metadata": {},
   "outputs": [],
   "source": [
    "# Count plot showing order distribution by day of week\n",
    "\n",
    "'your code here'\n"
   ]
  },
  {
   "cell_type": "code",
   "execution_count": null,
   "id": "db817af1-43cc-4baf-aa0f-2b0132820367",
   "metadata": {},
   "outputs": [],
   "source": [
    "# Count plot showing order distribution by time of day\n",
    "\n",
    "'your code here'\n"
   ]
  },
  {
   "cell_type": "markdown",
   "id": "a14e759d-407c-4e72-bdb9-1af3a2b52254",
   "metadata": {},
   "source": [
    "### 2 - Payments"
   ]
  },
  {
   "cell_type": "code",
   "execution_count": null,
   "id": "e082f3dc-4970-42aa-a45a-652442d53b11",
   "metadata": {},
   "outputs": [],
   "source": [
    "# Create a donut (pie chart) that show transactions by payment types\n",
    "\n",
    "'your code here'\n",
    "\n"
   ]
  },
  {
   "cell_type": "code",
   "execution_count": null,
   "id": "4d841282-fd51-4018-a04d-7d0ce83df401",
   "metadata": {},
   "outputs": [],
   "source": [
    "# Show the evolution of payment types over time\n",
    "\n",
    "'your code here'\n"
   ]
  },
  {
   "cell_type": "markdown",
   "id": "7f990389-41ea-4aa2-95b1-209b66b9b488",
   "metadata": {},
   "source": [
    "### 3 - Geolocation"
   ]
  },
  {
   "cell_type": "code",
   "execution_count": null,
   "id": "ab6b216e-d892-427c-8131-790fd24c77fb",
   "metadata": {},
   "outputs": [],
   "source": [
    "# Create a heatmap of all orders by location using an API to retrieve the latitude and longitude of every location, and display them on a map\n",
    "\n",
    "'your code here'\n"
   ]
  },
  {
   "cell_type": "markdown",
   "id": "3dca29b1-2f0c-4e55-a6b9-2d959301c212",
   "metadata": {},
   "source": [
    "### 4 - Profit computation"
   ]
  },
  {
   "cell_type": "code",
   "execution_count": null,
   "id": "a9aa0ceb-4fdd-4189-b459-34774c793a20",
   "metadata": {},
   "outputs": [],
   "source": [
    "# Show the monthly profit evolution for the best 4 product categories\n",
    "# x axis: months\n",
    "# y axis: gross profit (payment value - total order value)\n",
    "# hue : top product categories\n",
    "\n",
    "'your code here'\n"
   ]
  }
 ],
 "metadata": {
  "kernelspec": {
   "display_name": "Python 3 (ipykernel)",
   "language": "python",
   "name": "python3"
  },
  "language_info": {
   "codemirror_mode": {
    "name": "ipython",
    "version": 3
   },
   "file_extension": ".py",
   "mimetype": "text/x-python",
   "name": "python",
   "nbconvert_exporter": "python",
   "pygments_lexer": "ipython3",
   "version": "3.13.2"
  }
 },
 "nbformat": 4,
 "nbformat_minor": 5
}
