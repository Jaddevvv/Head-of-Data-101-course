{
 "cells": [
  {
   "cell_type": "code",
   "execution_count": null,
   "id": "cc7f3fb1-bf87-49c9-bd43-aef57b2e60d0",
   "metadata": {},
   "outputs": [],
   "source": [
    "print('hello')"
   ]
  },
  {
   "cell_type": "code",
   "execution_count": null,
   "id": "e534ec9c-dd89-4af7-8ddc-e03fcb823703",
   "metadata": {},
   "outputs": [],
   "source": [
    "# standard python\n",
    "import os\n",
    "import json\n",
    "import time\n",
    "import random\n",
    "import warnings\n",
    "import csv\n",
    "from datetime import datetime\n",
    "\n",
    "# external libs\n",
    "import pandas as pd\n",
    "import requests\n",
    "from tqdm.notebook import tqdm\n",
    "\n",
    "# beautiful soup\n",
    "from bs4 import BeautifulSoup\n",
    "\n",
    "# selenium\n",
    "from selenium import webdriver\n",
    "from selenium.webdriver.chrome.service import Service\n",
    "from selenium.webdriver.chrome.options import Options\n",
    "from selenium.webdriver.common.by import By\n",
    "from selenium.webdriver.common.keys import Keys\n",
    "from selenium.webdriver.support.ui import WebDriverWait\n",
    "from selenium.webdriver.support import expected_conditions as EC\n",
    "from webdriver_manager.chrome import ChromeDriverManager\n",
    "# selenium with undetected tracking\n",
    "import undetected_chromedriver as uc\n",
    "\n",
    "# better visualization in terminal\n",
    "from IPython.display import display, Image, HTML, clear_output\n",
    "from PIL import Image as PILImage\n",
    "from colorama import Fore, Style, init\n",
    "\n",
    "# no warnings\n",
    "warnings.filterwarnings(\"ignore\", message=\"Pyarrow will become a required dependency\")\n"
   ]
  },
  {
   "cell_type": "markdown",
   "id": "8d338e96-625a-491d-8ca8-de2224b30bca",
   "metadata": {},
   "source": [
    "# 0 - Webscrapping demo"
   ]
  },
  {
   "cell_type": "markdown",
   "id": "fceef5af-ebbb-4c47-bea8-f4919fc0217e",
   "metadata": {
    "jp-MarkdownHeadingCollapsed": true
   },
   "source": [
    "## A - Functions"
   ]
  },
  {
   "cell_type": "code",
   "execution_count": null,
   "id": "a34c7aa8-6cf1-452a-8e27-0be71e4a5f03",
   "metadata": {},
   "outputs": [],
   "source": [
    "# type with human effect function (just for style)\n",
    "def type_with_human_effect(element, text, min_delay=0.05, max_delay=0.15):\n",
    "    \"\"\"texting with random time between keys so that it's almost like a human (only for display)\"\"\"\n",
    "    for char in text:\n",
    "        element.send_keys(char)\n",
    "        time.sleep(random.uniform(min_delay, max_delay))\n",
    "\n",
    "# scrolling function\n",
    "def smooth_scroll(driver, scroll_to=None, duration=2, steps=25):\n",
    "    \"\"\"scrolling the page\"\"\"\n",
    "    # continue until the end of the page\n",
    "    if scroll_to is None:\n",
    "        total_height = driver.execute_script(\"return document.body.scrollHeight\")\n",
    "    else:\n",
    "        total_height = scroll_to\n",
    "    \n",
    "    current_position = driver.execute_script(\"return window.pageYOffset\")\n",
    "    step_size = (total_height - current_position) / steps\n",
    "    \n",
    "    for i in range(steps):\n",
    "        new_position = current_position + step_size * (i + 1)\n",
    "        driver.execute_script(f\"window.scrollTo(0, {new_position})\")\n",
    "        time.sleep(duration / steps)\n",
    "\n",
    "# screenshot function\n",
    "def take_and_display_screenshot(driver, filename=\"screenshot.png\", width=800):\n",
    "    \"\"\"take a screenshot and show it in the notebook\"\"\"\n",
    "    driver.save_screenshot(filename)\n",
    "    \n",
    "    # resizing the image to display it\n",
    "    img = PILImage.open(filename)\n",
    "    wpercent = (width / float(img.size[0]))\n",
    "    hsize = int((float(img.size[1]) * float(wpercent)))\n",
    "    img = img.resize((width, hsize), PILImage.LANCZOS)\n",
    "    img.save(filename)\n",
    "    \n",
    "    # display image\n",
    "    display(Image(filename=filename, width=width))\n",
    "\n",
    "# highlight elements\n",
    "def highlight_element(driver, element, duration=2):\n",
    "    \"\"\"highlights an element in the page to better follow (only for display)\"\"\"\n",
    "    original_style = element.get_attribute(\"style\")\n",
    "    driver.execute_script(\"\"\"\n",
    "    arguments[0].setAttribute('style', arguments[1] + \n",
    "        '; border: 2px solid red; background: yellow; color: black;');\n",
    "    \"\"\", element, original_style)\n",
    "    time.sleep(duration)\n",
    "    driver.execute_script(\"\"\"\n",
    "    arguments[0].setAttribute('style', arguments[1]);\n",
    "    \"\"\", element, original_style)\n"
   ]
  },
  {
   "cell_type": "markdown",
   "id": "c97fb640-a089-4f59-9e30-3a3ec7f23001",
   "metadata": {
    "jp-MarkdownHeadingCollapsed": true
   },
   "source": [
    "## B - Example of Browser - Filling out a form"
   ]
  },
  {
   "cell_type": "code",
   "execution_count": null,
   "id": "7a94719e-7db0-461d-b311-fe9ba6633118",
   "metadata": {},
   "outputs": [],
   "source": [
    "# colorama init for terminal\n",
    "init()\n",
    "\n",
    "# setting up the browser\n",
    "print(f\"{Fore.CYAN}browser configuration...{Style.RESET_ALL}\")\n",
    "\n",
    "# compatible options with undetected browser\n",
    "options = webdriver.ChromeOptions()\n",
    "options.add_argument(\"--start-maximized\")  # full screen window\n",
    "options.add_argument(\"--disable-notifications\")  # no notifs\n",
    "\n",
    "# progress bar\n",
    "for i in tqdm(range(10), desc=\"Webdriver init\"):\n",
    "    time.sleep(0.2)\n",
    "\n",
    "# webdriver init with undetected lib (to avoid robots warnings from google)\n",
    "driver = webdriver.Chrome(options=options)\n",
    "\n",
    "print(f\"\\n{Fore.CYAN}📝 Filling out a Form{Style.RESET_ALL}\")\n",
    "driver.get(\"https://httpbin.org/forms/post\")\n",
    "time.sleep(2)\n",
    "take_and_display_screenshot(driver, \"form_initial.png\")\n",
    "\n",
    "print(\"...\")\n",
    "\n",
    "# Remplir les champs du formulaire avec un effet visuel\n",
    "try:\n",
    "    # Nom du client\n",
    "    customer_name = driver.find_element(By.NAME, \"custname\")\n",
    "    highlight_element(driver, customer_name)\n",
    "    type_with_human_effect(customer_name, \"Amaury Gellé\")\n",
    "    \n",
    "    # Téléphone\n",
    "    phone = driver.find_element(By.NAME, \"custtel\")\n",
    "    highlight_element(driver, phone)\n",
    "    type_with_human_effect(phone, \"0123456789\")\n",
    "    \n",
    "    # Email\n",
    "    email = driver.find_element(By.NAME, \"custemail\")\n",
    "    highlight_element(driver, email)\n",
    "    type_with_human_effect(email, \"amaurygelle@gmail.com\")\n",
    "    \n",
    "    # Choix de pizza\n",
    "    pizza_choice = driver.find_element(By.CSS_SELECTOR, \"input[value='medium']\")\n",
    "    highlight_element(driver, pizza_choice)\n",
    "    pizza_choice.click()\n",
    "    \n",
    "    # Garniture\n",
    "    toppings = driver.find_element(By.NAME, \"topping\")\n",
    "    highlight_element(driver, toppings)\n",
    "    driver.execute_script(\"arguments[0].value = 'mushroom';\", toppings)\n",
    "    \n",
    "    # Heure de livraison\n",
    "    time_elem = driver.find_element(By.NAME, \"delivery\")\n",
    "    highlight_element(driver, time_elem)\n",
    "    type_with_human_effect(time_elem, \"18:30\")\n",
    "    \n",
    "    # Instructions\n",
    "    instructions = driver.find_element(By.NAME, \"comments\")\n",
    "    highlight_element(driver, instructions)\n",
    "    type_with_human_effect(instructions, \"Please leave it in front of the doorway - thanks!\")\n",
    "    \n",
    "    take_and_display_screenshot(driver, \"form_filled.png\")\n",
    "    \n",
    "    # Soumission du formulaire\n",
    "    print(\"Soumission du formulaire...\")\n",
    "    submit_button = driver.find_element(By.CSS_SELECTOR, \"button[type='submit']\")\n",
    "    highlight_element(driver, submit_button)\n",
    "    submit_button.click()\n",
    "    \n",
    "    time.sleep(2)\n",
    "    take_and_display_screenshot(driver, \"form_submitted.png\")\n",
    "    \n",
    "except Exception as e:\n",
    "    print(f\"Erreur lors du remplissage du formulaire: {e}\")"
   ]
  },
  {
   "cell_type": "markdown",
   "id": "8493efe8-21c6-4bd3-a39a-69ae097183a2",
   "metadata": {
    "jp-MarkdownHeadingCollapsed": true
   },
   "source": [
    "## C - Mimicking a Google search"
   ]
  },
  {
   "cell_type": "code",
   "execution_count": null,
   "id": "fc0d217a-e123-4ef7-83de-96d52c51ed81",
   "metadata": {},
   "outputs": [],
   "source": [
    "# colorama init for terminal\n",
    "init()\n",
    "\n",
    "# setting up the browser\n",
    "print(f\"{Fore.CYAN}browser configuration...{Style.RESET_ALL}\")\n",
    "\n",
    "# compatible options with undetected browser\n",
    "options = webdriver.ChromeOptions()\n",
    "options.add_argument(\"--start-maximized\")  # full screen window\n",
    "options.add_argument(\"--disable-notifications\")  # no notifs\n",
    "\n",
    "# progress bar\n",
    "for i in tqdm(range(10), desc=\"Webdriver init\"):\n",
    "    time.sleep(0.2)\n",
    "\n",
    "# webdriver init with undetected lib (to avoid robots warnings from google)\n",
    "driver = webdriver.Chrome(options=options)\n",
    "\n",
    "print(f\"{Fore.GREEN}Interactive Google Search{Style.RESET_ALL}\")\n",
    "print(\"Opening Google and accepting cookies...\")\n",
    "\n",
    "# Ouverture de Google\n",
    "driver.get(\"https://www.google.com\")\n",
    "time.sleep(2)\n",
    "\n",
    "# Accept cookies if we have to (might have been done in the past)\n",
    "try:\n",
    "    cookie_button = WebDriverWait(driver, 5).until(\n",
    "        EC.element_to_be_clickable((By.XPATH, \"//button[contains(., 'Accept all')]\"))\n",
    "    )\n",
    "    cookie_button.click()\n",
    "    print(\"Cookies accepted ✓\")\n",
    "    time.sleep(1)\n",
    "except:\n",
    "    print(\"No cookies found or cookies already accepted\")\n",
    "\n",
    "# Typing with human-like behavior\n",
    "search_box = driver.find_element(By.NAME, \"q\")\n",
    "highlight_element(driver, search_box)\n",
    "search_term = \"Albert School data courses\"\n",
    "print(f\"Looking: '{search_term}'\")\n",
    "\n",
    "type_with_human_effect(search_box, search_term)\n",
    "take_and_display_screenshot(driver, \"google_search_typing.png\")\n",
    "\n",
    "# Submitting the request\n",
    "search_box.send_keys(Keys.RETURN)\n",
    "time.sleep(3)\n",
    "take_and_display_screenshot(driver, \"google_results.png\")\n",
    "\n",
    "# Scrolling the page and taking screenshots\n",
    "print(\"Scrolling the page...\")\n",
    "smooth_scroll(driver, duration=4)\n",
    "take_and_display_screenshot(driver, \"google_results_scrolled.png\")\n",
    "\n",
    "# Extracting data\n",
    "print(f\"{Fore.BLUE} Extracting links and descriptions...{Style.RESET_ALL}\")\n",
    "\n",
    "# Waiting for the elements of the page to have loaded\n",
    "try:\n",
    "    WebDriverWait(driver, 10).until(\n",
    "        EC.presence_of_element_located((By.CSS_SELECTOR, \"a[href^='https://']\"))\n",
    "    )\n",
    "    print(\"Loaded ✓\")\n",
    "except:\n",
    "    print(\"Timeout for research terms\")\n",
    "\n",
    "# collect search results\n",
    "search_results = []\n",
    "time.sleep(1)\n",
    "\n",
    "# Look for all elements\n",
    "links = driver.find_elements(By.CSS_SELECTOR, \"a[href^='https://']:not([href*='google'])\")\n",
    "\n",
    "print(f\"Links found: {len(links)}\")\n",
    "\n",
    "for link in links:\n",
    "    try:\n",
    "        # get the URL\n",
    "        url = link.get_attribute(\"href\")\n",
    "        \n",
    "        # Get the text of the link\n",
    "        title = link.text\n",
    "        \n",
    "        # if there is no title, get its parent element \n",
    "        if not title.strip():\n",
    "            try:\n",
    "                h3 = link.find_element(By.XPATH, \"./ancestor::*//h3 | .//*//h3 | ./following::h3[1] | ./preceding::h3[1]\")\n",
    "                title = h3.text\n",
    "            except:\n",
    "                title = \"No title found\"\n",
    "        \n",
    "        # Find descriptions\n",
    "        description = \"No description found\"\n",
    "        try:\n",
    "            desc_candidates = [\n",
    "                link.find_element(By.XPATH, \"./ancestor::*[3]//div[string-length(text()) > 50]\"),\n",
    "                link.find_element(By.XPATH, \"./following::div[string-length(text()) > 50][1]\"),\n",
    "                link.find_element(By.XPATH, \"./ancestor::*//div[contains(@class, 'desc') or contains(@class, 'snippet') or contains(@class, 'description')]\")\n",
    "            ]\n",
    "            \n",
    "            for candidate in desc_candidates:\n",
    "                if candidate and candidate.text.strip():\n",
    "                    description = candidate.text.strip()\n",
    "                    break\n",
    "        except:\n",
    "            pass  # default value if none\n",
    "        \n",
    "        # we only keep rows with at least one non-null value\n",
    "        if title.strip() and url and \"google\" not in url.lower():\n",
    "            search_results.append({\n",
    "                \"Title\": title,\n",
    "                \"URL\": url,\n",
    "                \"Description\": description\n",
    "            })\n",
    "    except Exception as e:\n",
    "        print(f\"Error when extracting: {str(e)[:100]}...\")\n",
    "        continue\n",
    "\n",
    "# No duplicates\n",
    "unique_results = []\n",
    "seen_urls = set()\n",
    "for result in search_results:\n",
    "    if result[\"URL\"] not in seen_urls:\n",
    "        seen_urls.add(result[\"URL\"])\n",
    "        unique_results.append(result)\n",
    "\n",
    "search_results = unique_results\n",
    "\n",
    "# Display first results\n",
    "print(f\"\\n{Fore.YELLOW}Looking at firt results ({len(search_results)} au total):{Style.RESET_ALL}\")\n",
    "for i, result in enumerate(search_results[:3], 1):\n",
    "    print(f\"\\nRésultat {i}:\")\n",
    "    print(f\"Title: {result['Title']}\")\n",
    "    print(f\"URL: {result['URL']}\")\n",
    "    print(f\"Description: {result['Description'][:100]}...\")\n",
    "\n",
    "timestamp = datetime.now().strftime(\"%Y%m%d_%H%M%S\")\n",
    "csv_filename = f\"google_search_results_{timestamp}.csv\"\n",
    "\n",
    "# Writing in csv\n",
    "with open(csv_filename, 'w', newline='', encoding='utf-8') as csvfile:\n",
    "    fieldnames = ['Title', 'URL', 'Description']\n",
    "    writer = csv.DictWriter(csvfile, fieldnames=fieldnames)\n",
    "    \n",
    "    writer.writeheader()\n",
    "    for result in search_results:\n",
    "        writer.writerow(result)\n",
    "\n",
    "print(f\"\\n{Fore.GREEN}Exported results in {csv_filename} ({len(search_results)} entrées){Style.RESET_ALL}\")\n",
    "\n",
    "print(\"\\nExportation terminée!\")\n",
    "for i in tqdm(range(5), desc=\"Finalisation\"):\n",
    "    time.sleep(0.3)\n"
   ]
  },
  {
   "cell_type": "markdown",
   "id": "5d089070-7b74-4ed8-927e-b642677ea47d",
   "metadata": {},
   "source": [
    "# I - Webscrapping IMDB (Beautiful Soup)"
   ]
  },
  {
   "cell_type": "markdown",
   "id": "1514fd4a-7987-472e-b93d-eb0c5ed88acd",
   "metadata": {
    "jp-MarkdownHeadingCollapsed": true
   },
   "source": [
    "## A - Making a request on the Top 250 movies page"
   ]
  },
  {
   "cell_type": "code",
   "execution_count": null,
   "id": "384d8540-a1e4-4bb6-8e05-9ff3766a0d81",
   "metadata": {},
   "outputs": [],
   "source": [
    "# looking at the robots.txt\n",
    "\n",
    "#https://www.imdb.com/robots.txt\n"
   ]
  },
  {
   "cell_type": "code",
   "execution_count": null,
   "id": "801b79b7-2bb3-4f49-a61c-11d9e5e67d08",
   "metadata": {},
   "outputs": [],
   "source": [
    "# make a request to the IMDB Top 250 Movies page\n",
    "\n",
    "url = \"https://www.imdb.com/chart/top/\"\n",
    "headers = {\n",
    "    \"User-Agent\": \"Mozilla/5.0 (Windows NT 10.0; Win64; x64) AppleWebKit/537.36 (KHTML, like Gecko) Chrome/91.0.4472.124 Safari/537.36\",\n",
    "    \"Accept-Language\": \"en-US,en;q=0.9\"\n",
    "}\n",
    "\n",
    "# your code here\n",
    "#\n",
    "#\n",
    "#\n",
    "\n",
    "print(f\"request status code: {response.status_code}\")\n",
    "if response.status_code == 200:\n",
    "    print(\"all good\")\n",
    "else:\n",
    "    print(\"no webpage found\")\n",
    "print('')\n"
   ]
  },
  {
   "cell_type": "code",
   "execution_count": null,
   "id": "92b6a338-d1f4-442a-8ddf-40a295363078",
   "metadata": {},
   "outputs": [],
   "source": [
    "# creating a Beautiful Soup object based on the response.text (the HTML we parsed from the URL)\n",
    "\n"
   ]
  },
  {
   "cell_type": "markdown",
   "id": "f03cdde7-fa46-4920-bd1f-aff13808e6a1",
   "metadata": {
    "jp-MarkdownHeadingCollapsed": true
   },
   "source": [
    "## B - Starting small - retrieving the information of the first movie"
   ]
  },
  {
   "cell_type": "code",
   "execution_count": null,
   "id": "5a9816d4-440b-4838-8f96-b0b673fd4434",
   "metadata": {},
   "outputs": [],
   "source": [
    "# soup.select_one() to fetch the first instance of the element we want to fetch\n",
    "\n",
    "#first_movie = \n"
   ]
  },
  {
   "cell_type": "code",
   "execution_count": null,
   "id": "dbee8837-1db3-461a-a9c7-bc6931ed6440",
   "metadata": {},
   "outputs": [],
   "source": [
    "# getting the title with first_movie.select_one() to fetch the first instance of the list category\n",
    "\n",
    "#first_title = \n"
   ]
  },
  {
   "cell_type": "code",
   "execution_count": null,
   "id": "a2c59820-ac4c-428f-803b-9871c374a886",
   "metadata": {},
   "outputs": [],
   "source": [
    "# fetch the first year\n",
    "\n",
    "#first_year = \n"
   ]
  },
  {
   "cell_type": "code",
   "execution_count": null,
   "id": "2dade17f-14ae-409c-9d54-6927913b500a",
   "metadata": {},
   "outputs": [],
   "source": [
    "# fetch the first rating\n",
    "\n",
    "#first_rating = \n"
   ]
  },
  {
   "cell_type": "markdown",
   "id": "a299a13d-3916-410f-9781-66c6b4238a5c",
   "metadata": {
    "jp-MarkdownHeadingCollapsed": true
   },
   "source": [
    "## C - Retrieve data for the whole page"
   ]
  },
  {
   "cell_type": "code",
   "execution_count": null,
   "id": "561a7933-55d8-4244-a4b7-2565cc18d9b3",
   "metadata": {},
   "outputs": [],
   "source": [
    "# initializing lists to store the data\n",
    "\n",
    "movie_titles = []\n",
    "movie_years = []\n",
    "movie_ratings = []\n",
    "\n",
    "#\n",
    "#\n",
    "#\n",
    "\n",
    "print('titles:', movie_titles)\n",
    "print('years:', movie_years)\n",
    "print('ratings:', movie_ratings)\n"
   ]
  },
  {
   "cell_type": "markdown",
   "id": "e0fe6d93-9ea7-492a-bb43-7a19b3ebd350",
   "metadata": {
    "jp-MarkdownHeadingCollapsed": true
   },
   "source": [
    "## D - Creating a dataframe and saving the data"
   ]
  },
  {
   "cell_type": "code",
   "execution_count": null,
   "id": "48efff36-9a68-4158-9d19-11ac8c371079",
   "metadata": {},
   "outputs": [],
   "source": [
    "# creating the dataframe\n",
    "\n",
    "movies_df = pd.DataFrame({\n",
    "    'Title': movie_titles,\n",
    "    'Year': movie_years,\n",
    "    'Rating': movie_ratings\n",
    "})\n",
    "\n",
    "movies_df.head(5)\n"
   ]
  },
  {
   "cell_type": "code",
   "execution_count": null,
   "id": "0ecd1ca0-4c1d-4d4f-bd79-d9cac908f8a7",
   "metadata": {},
   "outputs": [],
   "source": [
    "# saving the dataframe in a dedicated folder\n",
    "\n",
    "path = 'xxxx'\n",
    "file = 'imdb_top_movies.csv'\n",
    "movies_df.to_csv(f'{path}/{file}', index=False)\n",
    "print(f\"data exported to {path}/{file}\")\n"
   ]
  },
  {
   "cell_type": "markdown",
   "id": "acdca746-91a1-422d-8b4d-ac31c11b31f6",
   "metadata": {},
   "source": [
    "# II - Webscrapping an Olist Website"
   ]
  },
  {
   "cell_type": "markdown",
   "id": "273e8403-3589-4ed0-924c-720b07e6044f",
   "metadata": {
    "jp-MarkdownHeadingCollapsed": true
   },
   "source": [
    "## A - Fetch one product"
   ]
  },
  {
   "cell_type": "code",
   "execution_count": null,
   "id": "45c53193-6974-4590-980d-30815b70ec91",
   "metadata": {},
   "outputs": [],
   "source": [
    "# Chrome configuration in headless mode\n",
    "options = Options()\n",
    "options.add_argument('--headless') # comment if you want to see what the browser is doing\n",
    "options.add_argument('--no-sandbox')\n",
    "options.add_argument('--disable-dev-shm-usage')\n",
    "options.add_argument('user-agent=Mozilla/5.0 (Windows NT 10.0; Win64; x64) AppleWebKit/537.36 (KHTML, like Gecko) Chrome/91.0.4472.124 Safari/537.36')\n",
    "\n",
    "# Install Chrome driver\n",
    "service = Service(ChromeDriverManager().install())\n",
    "\n",
    "# creating a browser with a driver object\n",
    "driver = webdriver.Chrome(service=service, options=options)\n",
    "\n",
    "url = \"https://www.sunsetcosmeticos.com.br/produto/base-cobertura-total-maple-absolute-new-york-208\"\n",
    "\n",
    "driver.get(url)\n",
    "\n",
    "#\n",
    "#\n",
    "#\n"
   ]
  },
  {
   "cell_type": "code",
   "execution_count": null,
   "id": "d42f59ff-6272-48bc-8f6e-75fb54e3b610",
   "metadata": {},
   "outputs": [],
   "source": [
    "# transforming it into a function\n",
    "\n",
    "def fetch_product(driver, url):\n",
    "    '''\n",
    "    fetches a product's title, price, stars and description\n",
    "    '''\n",
    "    #\n",
    "    #\n",
    "    #\n",
    "\n",
    "# executing the function to make sure it works\n",
    "\n"
   ]
  },
  {
   "cell_type": "markdown",
   "id": "dbcc0c65-81f3-484f-ab14-0a425769e812",
   "metadata": {
    "jp-MarkdownHeadingCollapsed": true
   },
   "source": [
    "## B - Fetch one brand"
   ]
  },
  {
   "cell_type": "code",
   "execution_count": null,
   "id": "f818fb76-6260-4e78-9625-7420ea533863",
   "metadata": {},
   "outputs": [],
   "source": [
    "# start by fetching the url of the first product of the page, then use the function defined above to fetch its information\n",
    "\n",
    "# Chrome configuration in headless mode\n",
    "options = Options()\n",
    "options.add_argument('--headless') # comment if you want to see what the browser is doing\n",
    "options.add_argument('--no-sandbox')\n",
    "options.add_argument('--disable-dev-shm-usage')\n",
    "options.add_argument('user-agent=Mozilla/5.0 (Windows NT 10.0; Win64; x64) AppleWebKit/537.36 (KHTML, like Gecko) Chrome/91.0.4472.124 Safari/537.36')\n",
    "\n",
    "# Install Chrome driver\n",
    "service = Service(ChromeDriverManager().install())\n",
    "\n",
    "# creating a browser with a driver object\n",
    "driver = webdriver.Chrome(service=service, options=options)\n",
    "\n",
    "url = 'https://www.sunsetcosmeticos.com.br/absolute_new_york'\n",
    "\n",
    "# fetch the url of the first product\n",
    "#\n",
    "#\n",
    "\n",
    "# fetch its information\n",
    "#\n",
    "#\n"
   ]
  },
  {
   "cell_type": "code",
   "execution_count": null,
   "id": "cc8b08fe-c913-4f0a-a88c-a013ae74369a",
   "metadata": {},
   "outputs": [],
   "source": [
    "# generalize this method for every product of the page (no need to add a scroll for the time being)\n",
    "\n",
    "#\n",
    "#\n",
    "#\n"
   ]
  },
  {
   "cell_type": "code",
   "execution_count": null,
   "id": "cf771f8e-8c94-4b55-a588-ea763a5f7528",
   "metadata": {
    "scrolled": true
   },
   "outputs": [],
   "source": [
    "# create a function to fetch all products of the page (and add a scroll this time, to get them all)\n",
    "\n",
    "def scroll_and_load_more(max_scrolls=20):\n",
    "    '''\n",
    "    scrolls the page with a max of 20 scrolls to load more products\n",
    "    we count the number of products in the page before scrolling\n",
    "    we compare this number to the count of products after scrolling\n",
    "    if we don't have any change, we stop the scroll\n",
    "    '''\n",
    "    previous_count = len(driver.find_elements(By.CLASS_NAME, \"product-block\"))\n",
    "    scroll_count = 0\n",
    "    \n",
    "    #\n",
    "    #\n",
    "    #\n",
    "\n",
    "def fetch_brand_products(driver, brand='absolute_new_york'):\n",
    "    '''\n",
    "    fetches all products of a page by using the scroll function\n",
    "    captures the urls of the products\n",
    "    then uses the fetch_product function to retrieve its informations\n",
    "    '''\n",
    "    \n",
    "    #\n",
    "    #\n",
    "    #\n",
    "\n"
   ]
  },
  {
   "cell_type": "code",
   "execution_count": null,
   "id": "0bb3bcb5-7763-453a-9fad-5bae9f0a4b15",
   "metadata": {},
   "outputs": [],
   "source": [
    "# testing the code\n",
    "\n",
    "# add browser configuration as we did previously\n",
    "\n",
    "brand = 'absolute_new_york'\n",
    "new_york = fetch_brand_products(driver, brand)\n",
    "df = pd.DataFrame(new_york)\n",
    "\n",
    "df.head(5)\n"
   ]
  },
  {
   "cell_type": "code",
   "execution_count": null,
   "id": "ab7e460f-070d-43b2-b843-3c1727eb8847",
   "metadata": {},
   "outputs": [],
   "source": [
    "# saving the dataframe in the folder you want\n",
    "\n",
    "file_name = brand.replace('-', '_') + '.csv'\n",
    "print(file_name)\n",
    "path = 'xxxx'\n",
    "df.to_csv(f'{path}/{file_name}', index=False)\n",
    "print(f\"Data saved to {file_name} ({len(new_york)} products)\")\n"
   ]
  },
  {
   "cell_type": "markdown",
   "id": "d641dd6c-afd7-4c31-b599-4b75f9db1325",
   "metadata": {
    "jp-MarkdownHeadingCollapsed": true
   },
   "source": [
    "## C - All brands"
   ]
  },
  {
   "cell_type": "code",
   "execution_count": null,
   "id": "c15e9eeb-74de-4842-8836-a34b1a1c9e31",
   "metadata": {},
   "outputs": [],
   "source": [
    "# fill the final below function \n",
    "\n",
    "\n",
    "def get_all_brands(driver, url= 'https://www.sunsetcosmeticos.com.br/p/marcas'):\n",
    "    \"\"\"\n",
    "    fetches all the brands url links present in this url: https://www.sunsetcosmeticos.com.br/p/marcas\n",
    "    uses the previous functions to get all of their products urls, and their product information\n",
    "    \"\"\"\n",
    "    #\n",
    "    #\n",
    "    #\n"
   ]
  },
  {
   "cell_type": "code",
   "execution_count": null,
   "id": "70808ae9-b9fd-499b-b86e-8cb27e4eb891",
   "metadata": {},
   "outputs": [],
   "source": [
    "# test your code, retrieve all products from sunsetcosmeticos, and save it to a file\n"
   ]
  }
 ],
 "metadata": {
  "kernelspec": {
   "display_name": "Python 3 (ipykernel)",
   "language": "python",
   "name": "python3"
  },
  "language_info": {
   "codemirror_mode": {
    "name": "ipython",
    "version": 3
   },
   "file_extension": ".py",
   "mimetype": "text/x-python",
   "name": "python",
   "nbconvert_exporter": "python",
   "pygments_lexer": "ipython3",
   "version": "3.10.6"
  }
 },
 "nbformat": 4,
 "nbformat_minor": 5
}
